{
  "nbformat": 4,
  "nbformat_minor": 0,
  "metadata": {
    "colab": {
      "provenance": [],
      "authorship_tag": "ABX9TyOOrtf+RpggGcty7V9m8S/d",
      "include_colab_link": true
    },
    "kernelspec": {
      "name": "python3",
      "display_name": "Python 3"
    },
    "language_info": {
      "name": "python"
    }
  },
  "cells": [
    {
      "cell_type": "markdown",
      "metadata": {
        "id": "view-in-github",
        "colab_type": "text"
      },
      "source": [
        "<a href=\"https://colab.research.google.com/github/emmacwatts/GUIpractice/blob/master/GUIinColab.ipynb\" target=\"_parent\"><img src=\"https://colab.research.google.com/assets/colab-badge.svg\" alt=\"Open In Colab\"/></a>"
      ]
    },
    {
      "cell_type": "code",
      "execution_count": null,
      "metadata": {
        "id": "gkrab9N5H_Yt"
      },
      "outputs": [],
      "source": [
        "#Attempting the GUI here to see the difference\n",
        "\n",
        "import tkinter as tk\n",
        "\n",
        "window = tk.Tk()\n",
        "\n",
        "greeting = tk.Label(text = \"Hello, Tkinter\")\n",
        "\n",
        "greeting.pack()\n",
        "\n",
        "window.mainloop()\n",
        "\n"
      ]
    }
  ]
}